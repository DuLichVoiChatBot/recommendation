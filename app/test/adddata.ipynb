{
 "cells": [
  {
   "cell_type": "code",
   "execution_count": 1,
   "metadata": {},
   "outputs": [],
   "source": [
    "import firebase_admin\n",
    "from firebase_admin import credentials\n",
    "from firebase_admin import firestore\n",
    "import pandas as pd"
   ]
  },
  {
   "cell_type": "code",
   "execution_count": 8,
   "metadata": {},
   "outputs": [
    {
     "ename": "NameError",
     "evalue": "name 'credentials' is not defined",
     "output_type": "error",
     "traceback": [
      "\u001b[1;31m---------------------------------------------------------------------------\u001b[0m",
      "\u001b[1;31mNameError\u001b[0m                                 Traceback (most recent call last)",
      "Cell \u001b[1;32mIn[8], line 1\u001b[0m\n\u001b[1;32m----> 1\u001b[0m cred \u001b[38;5;241m=\u001b[39m \u001b[43mcredentials\u001b[49m\u001b[38;5;241m.\u001b[39mCertificate(\u001b[38;5;124m'\u001b[39m\u001b[38;5;124mtouristbot-e8c3c-firebase-adminsdk-it19y-5cd6115996.json\u001b[39m\u001b[38;5;124m'\u001b[39m)\n\u001b[0;32m      2\u001b[0m firebase_admin\u001b[38;5;241m.\u001b[39minitialize_app(cred)\n\u001b[0;32m      4\u001b[0m \u001b[38;5;66;03m# Khởi tạo Firestore client\u001b[39;00m\n",
      "\u001b[1;31mNameError\u001b[0m: name 'credentials' is not defined"
     ]
    }
   ],
   "source": [
    "cred = credentials.Certificate('touristbot-e8c3c-firebase-adminsdk-it19y-5cd6115996.json')\n",
    "firebase_admin.initialize_app(cred)\n",
    "\n",
    "# Khởi tạo Firestore client\n",
    "db = firestore.client()\n",
    "\n",
    "# Tham chiếu đến một collection\n",
    "collection_ref = db.collection('locations')"
   ]
  },
  {
   "cell_type": "code",
   "execution_count": 3,
   "metadata": {},
   "outputs": [],
   "source": [
    "data = pd.read_excel('data_touristbot.xlsx')"
   ]
  },
  {
   "cell_type": "code",
   "execution_count": 8,
   "metadata": {},
   "outputs": [
    {
     "ename": "NameError",
     "evalue": "name 'data' is not defined",
     "output_type": "error",
     "traceback": [
      "\u001b[1;31m---------------------------------------------------------------------------\u001b[0m",
      "\u001b[1;31mNameError\u001b[0m                                 Traceback (most recent call last)",
      "Cell \u001b[1;32mIn[8], line 1\u001b[0m\n\u001b[1;32m----> 1\u001b[0m \u001b[38;5;28;01mfor\u001b[39;00m i \u001b[38;5;129;01min\u001b[39;00m \u001b[43mdata\u001b[49m\u001b[38;5;241m.\u001b[39miterrows():\n\u001b[0;32m      2\u001b[0m     temp \u001b[38;5;241m=\u001b[39m {\n\u001b[0;32m      3\u001b[0m     \u001b[38;5;124m'\u001b[39m\u001b[38;5;124mID\u001b[39m\u001b[38;5;124m'\u001b[39m: i[\u001b[38;5;241m1\u001b[39m][\u001b[38;5;124m'\u001b[39m\u001b[38;5;124mID\u001b[39m\u001b[38;5;124m'\u001b[39m],\n\u001b[0;32m      4\u001b[0m     \u001b[38;5;124m'\u001b[39m\u001b[38;5;124mName\u001b[39m\u001b[38;5;124m'\u001b[39m: i[\u001b[38;5;241m1\u001b[39m][\u001b[38;5;124m'\u001b[39m\u001b[38;5;124mName\u001b[39m\u001b[38;5;124m'\u001b[39m],\n\u001b[1;32m   (...)\u001b[0m\n\u001b[0;32m     11\u001b[0m     \u001b[38;5;124m'\u001b[39m\u001b[38;5;124mtags\u001b[39m\u001b[38;5;124m'\u001b[39m: i[\u001b[38;5;241m1\u001b[39m][\u001b[38;5;124m'\u001b[39m\u001b[38;5;124mtags\u001b[39m\u001b[38;5;124m'\u001b[39m]\n\u001b[0;32m     12\u001b[0m     }\n\u001b[0;32m     13\u001b[0m     collection_ref\u001b[38;5;241m.\u001b[39madd(temp)\n",
      "\u001b[1;31mNameError\u001b[0m: name 'data' is not defined"
     ]
    }
   ],
   "source": [
    "for i in data.iterrows():\n",
    "    temp = {\n",
    "    'ID': i[1]['ID'],\n",
    "    'Name': i[1]['Name'],\n",
    "    'Address': i[1]['Address'],\n",
    "    'Category': i[1]['Category'],\n",
    "    'Description': i[1]['Description'],\n",
    "    'Giá': i[1]['Giá'],\n",
    "    'Loại': i[1]['Loại'],\n",
    "    'URL': i[1]['URL'],\n",
    "    'tags': i[1]['tags']\n",
    "    }\n",
    "    collection_ref.add(temp)"
   ]
  },
  {
   "cell_type": "code",
   "execution_count": 1,
   "metadata": {},
   "outputs": [],
   "source": [
    "from fastapi import FastAPI\n",
    "import numpy as np\n",
    "import pandas as pd\n",
    "from sklearn.preprocessing import StandardScaler\n",
    "from sklearn.cluster import KMeans\n",
    "import os\n",
    "import uvicorn\n",
    "from firebaseHelper import getCollection, getCollectionByID, getCollectionByAttribute"
   ]
  },
  {
   "cell_type": "code",
   "execution_count": 6,
   "metadata": {},
   "outputs": [],
   "source": [
    "def getCoversationByID(con_id: str):\n",
    "    docs = getCollectionByAttribute('chats', 'conversationId', con_id)\n",
    "    results = []\n",
    "    for doc in docs:\n",
    "        temp = doc.to_dict()\n",
    "        results.append(temp)\n",
    "    return results"
   ]
  },
  {
   "cell_type": "code",
   "execution_count": 16,
   "metadata": {},
   "outputs": [],
   "source": [
    "from datetime import datetime, timezone"
   ]
  },
  {
   "cell_type": "code",
   "execution_count": 17,
   "metadata": {},
   "outputs": [
    {
     "name": "stderr",
     "output_type": "stream",
     "text": [
      "c:\\Users\\TechCare\\AppData\\Local\\Programs\\Python\\Python311\\Lib\\site-packages\\google\\cloud\\firestore_v1\\base_collection.py:302: UserWarning: Detected filter using positional arguments. Prefer using the 'filter' keyword argument instead.\n",
      "  return query.where(field_path, op_string, value)\n"
     ]
    }
   ],
   "source": [
    "user_id = '8883e3c7-231c-43a6-b5a0-67252a5fd00e'\n",
    "dt = getCoversationByID(user_id)"
   ]
  },
  {
   "cell_type": "code",
   "execution_count": 19,
   "metadata": {},
   "outputs": [
    {
     "name": "stdout",
     "output_type": "stream",
     "text": [
      "{'text': 'V', 'createdAt': DatetimeWithNanoseconds(2024, 7, 20, 4, 27, 46, 391000, tzinfo=datetime.timezone.utc), 'user': {'avatar': 'https://i.pravatar.cc/300?u=Tu.nguyen@chative.io', '_id': '8883e3c7-231c-43a6-b5a0-67252a5fd00e', 'name': 'Tu nguyen'}, 'conversationId': '8883e3c7-231c-43a6-b5a0-67252a5fd00e', '_id': 'd28df6f2-e4a0-4ed3-b9c0-95c4820e53c1'}\n",
      "{'text': 'Rrrr', 'createdAt': DatetimeWithNanoseconds(2024, 7, 20, 4, 28, 36, 957000, tzinfo=datetime.timezone.utc), 'user': {'avatar': 'https://i.pravatar.cc/300?u=Tu.nguyen@chative.io', '_id': '8883e3c7-231c-43a6-b5a0-67252a5fd00e', 'name': 'Tu nguyen'}, 'conversationId': '8883e3c7-231c-43a6-b5a0-67252a5fd00e', '_id': '4e0163d8-3236-44b9-af1c-1b9dbdf5ae13'}\n",
      "{'text': 'Gggg', 'createdAt': DatetimeWithNanoseconds(2024, 7, 20, 4, 28, 39, 240000, tzinfo=datetime.timezone.utc), 'user': {'avatar': 'https://i.pravatar.cc/300?u=Tu.nguyen@chative.io', '_id': '8883e3c7-231c-43a6-b5a0-67252a5fd00e', 'name': 'Tu nguyen'}, 'conversationId': '8883e3c7-231c-43a6-b5a0-67252a5fd00e', '_id': '96e98b62-4b9e-4dc9-8c38-80c802079b2e'}\n",
      "{'text': 'Ddds', 'createdAt': DatetimeWithNanoseconds(2024, 7, 20, 4, 28, 41, 612000, tzinfo=datetime.timezone.utc), 'user': {'avatar': 'https://i.pravatar.cc/300?u=Tu.nguyen@chative.io', '_id': '8883e3c7-231c-43a6-b5a0-67252a5fd00e', 'name': 'Tu nguyen'}, 'conversationId': '8883e3c7-231c-43a6-b5a0-67252a5fd00e', '_id': '34b2742d-8c03-4778-b17d-c42712a304e4'}\n",
      "{'text': 'Rrr', 'createdAt': DatetimeWithNanoseconds(2024, 7, 20, 4, 31, 43, 129000, tzinfo=datetime.timezone.utc), 'user': {'avatar': 'https://i.pravatar.cc/300?u=Tu.nguyen@chative.io', '_id': '8883e3c7-231c-43a6-b5a0-67252a5fd00e', 'name': 'Tu nguyen'}, 'conversationId': '8883e3c7-231c-43a6-b5a0-67252a5fd00e', '_id': '94a6a018-8927-4d5c-9c64-d54fc0ba01f5'}\n",
      "{'text': 'Juj', 'createdAt': DatetimeWithNanoseconds(2024, 7, 20, 4, 46, 31, 901000, tzinfo=datetime.timezone.utc), 'user': {'avatar': 'https://i.pravatar.cc/300?u=Tu.nguyen@chative.io', '_id': '8883e3c7-231c-43a6-b5a0-67252a5fd00e', 'name': 'Tu nguyen'}, 'conversationId': '8883e3c7-231c-43a6-b5a0-67252a5fd00e', '_id': '74152d32-f3cf-4bbb-9038-48fba5a8bbc3'}\n"
     ]
    }
   ],
   "source": [
    "def convert_to_datetime(dt):\n",
    "    return datetime(\n",
    "        dt.year, dt.month, dt.day,\n",
    "        dt.hour, dt.minute, dt.second,\n",
    "        dt.microsecond, tzinfo=dt.tzinfo\n",
    "    )\n",
    "\n",
    "# Sắp xếp danh sách theo `createdAt` từ xa đến gần (thứ tự tăng dần)\n",
    "sorted_data = sorted(dt, key=lambda x: convert_to_datetime(x['createdAt']))\n",
    "\n",
    "# In danh sách đã sắp xếp\n",
    "for item in sorted_data:\n",
    "    print(item)"
   ]
  }
 ],
 "metadata": {
  "kernelspec": {
   "display_name": "Python 3",
   "language": "python",
   "name": "python3"
  },
  "language_info": {
   "codemirror_mode": {
    "name": "ipython",
    "version": 3
   },
   "file_extension": ".py",
   "mimetype": "text/x-python",
   "name": "python",
   "nbconvert_exporter": "python",
   "pygments_lexer": "ipython3",
   "version": "3.11.4"
  }
 },
 "nbformat": 4,
 "nbformat_minor": 2
}
