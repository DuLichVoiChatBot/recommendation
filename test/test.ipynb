{
 "cells": [
  {
   "cell_type": "code",
   "execution_count": null,
   "metadata": {},
   "outputs": [],
   "source": [
    "import asyncio\n",
    "from google.cloud import firestore\n",
    "\n",
    "async def listen_for_changes():\n",
    "    db = firestore.AsyncClient()\n",
    "\n",
    "    async def on_snapshot(doc_snapshot, changes, read_time):\n",
    "        for doc in doc_snapshot:\n",
    "            print(f'Document data: {doc.to_dict()}')\n",
    "\n",
    "    doc_ref = db.collection('your_collection').document('your_document_id')\n",
    "    doc_watch = doc_ref.on_snapshot(on_snapshot)\n",
    "\n",
    "\n",
    "    while True:\n",
    "        await asyncio.sleep(1)\n",
    "\n",
    "async def main():\n",
    "    # Chạy lắng nghe thay đổi trong một task\n",
    "    asyncio.create_task(listen_for_changes())\n",
    "\n",
    "    # Thực hiện các tác vụ khác trong vòng lặp chính\n",
    "    while True:\n",
    "        # Thực hiện tác vụ khác ở đây\n",
    "        await asyncio.sleep(10)  # Ví dụ: Đọc dữ liệu mỗi 10 giây\n",
    "\n",
    "# Chạy chương trình\n",
    "asyncio.run(main())\n"
   ]
  }
 ],
 "metadata": {
  "kernelspec": {
   "display_name": "Python 3",
   "language": "python",
   "name": "python3"
  },
  "language_info": {
   "name": "python",
   "version": "3.11.4"
  }
 },
 "nbformat": 4,
 "nbformat_minor": 2
}
